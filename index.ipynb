{
 "cells": [
  {
   "cell_type": "markdown",
   "metadata": {},
   "source": [
    "# Evaluating Regression Lines Lab"
   ]
  },
  {
   "cell_type": "markdown",
   "metadata": {},
   "source": [
    "### Introduction"
   ]
  },
  {
   "cell_type": "markdown",
   "metadata": {},
   "source": [
    "In the previous lesson, we learned to evaluate how well a regression line estimated our actual data.  In this lab, we will turn these formulas into code.  In doing so, we'll build lots of useful functions for both calculating and displaying our errors for a given regression line and dataset."
   ]
  },
  {
   "cell_type": "markdown",
   "metadata": {},
   "source": [
    "> In moving through this lab, we'll access to the functions that we previously built out to plot our data, available in the [graph](https://github.com/learn-co-curriculum/evaluating-regression-lines-lab/blob/master/graph.py) here."
   ]
  },
  {
   "cell_type": "markdown",
   "metadata": {},
   "source": [
    "### Determining Quality"
   ]
  },
  {
   "cell_type": "markdown",
   "metadata": {},
   "source": [
    "In the file, `movie_data.py` you will find movie data written as a python list of dictionaries, with each dictionary representing a movie.  The movies are derived from the first 30 entries from the dataset containing 538 movies [provided here](https://raw.githubusercontent.com/fivethirtyeight/data/master/bechdel/movies.csv)."
   ]
  },
  {
   "cell_type": "code",
   "execution_count": 1,
   "metadata": {
    "scrolled": true
   },
   "outputs": [
    {
     "data": {
      "text/plain": [
       "30"
      ]
     },
     "execution_count": 1,
     "metadata": {},
     "output_type": "execute_result"
    }
   ],
   "source": [
    "from movie_data import movies \n",
    "len(movies)"
   ]
  },
  {
   "cell_type": "markdown",
   "metadata": {},
   "source": [
    "> Press shift + enter"
   ]
  },
  {
   "cell_type": "code",
   "execution_count": 2,
   "metadata": {
    "scrolled": true
   },
   "outputs": [
    {
     "data": {
      "text/plain": [
       "{'budget': 13000000, 'domgross': 25682380.0, 'title': '21 &amp; Over'}"
      ]
     },
     "execution_count": 2,
     "metadata": {},
     "output_type": "execute_result"
    }
   ],
   "source": [
    "movies[0]"
   ]
  },
  {
   "cell_type": "code",
   "execution_count": 3,
   "metadata": {},
   "outputs": [
    {
     "data": {
      "text/plain": [
       "13.0"
      ]
     },
     "execution_count": 3,
     "metadata": {},
     "output_type": "execute_result"
    }
   ],
   "source": [
    "movies[0]['budget']/1000000"
   ]
  },
  {
   "cell_type": "markdown",
   "metadata": {},
   "source": [
    "The numbers are in millions, so we will simplify things by dividing everything by a million"
   ]
  },
  {
   "cell_type": "code",
   "execution_count": 6,
   "metadata": {},
   "outputs": [
    {
     "data": {
      "text/plain": [
       "[{'title': '21 &amp; Over', 'budget': 13.0, 'domgross': 26.0},\n",
       " {'title': 'Dredd 3D', 'budget': 46.0, 'domgross': 13.0},\n",
       " {'title': '12 Years a Slave', 'budget': 20.0, 'domgross': 53.0},\n",
       " {'title': '2 Guns', 'budget': 61.0, 'domgross': 76.0},\n",
       " {'title': '42', 'budget': 40.0, 'domgross': 95.0},\n",
       " {'title': '47 Ronin', 'budget': 225.0, 'domgross': 38.0},\n",
       " {'title': 'A Good Day to Die Hard', 'budget': 92.0, 'domgross': 67.0},\n",
       " {'title': 'About Time', 'budget': 12.0, 'domgross': 15.0},\n",
       " {'title': 'After Earth', 'budget': 130.0, 'domgross': 61.0},\n",
       " {'title': 'August: Osage County', 'budget': 25.0, 'domgross': 37.0},\n",
       " {'title': 'Beautiful Creatures', 'budget': 50.0, 'domgross': 19.0},\n",
       " {'title': 'Blue Jasmine', 'budget': 18.0, 'domgross': 33.0},\n",
       " {'title': 'Captain Phillips', 'budget': 55.0, 'domgross': 107.0},\n",
       " {'title': 'Carrie', 'budget': 30.0, 'domgross': 35.0},\n",
       " {'title': 'Cloudy with a Chance of Meatballs 2',\n",
       "  'budget': 78.0,\n",
       "  'domgross': 120.0},\n",
       " {'title':